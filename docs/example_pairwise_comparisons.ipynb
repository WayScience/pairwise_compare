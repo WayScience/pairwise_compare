{
 "cells": [
  {
   "cell_type": "markdown",
   "metadata": {
    "jukit_cell_id": "iPcbHzi4Te"
   },
   "source": [
    "# Examples of using the PairwiseCompareManager\n",
    "This notebook shows examples on the NF1 dataset of how to compare instances of different groups.\n",
    "Each instance is a unique well with Schwann Cells."
   ]
  },
  {
   "cell_type": "code",
   "execution_count": 1,
   "metadata": {
    "execution": {
     "iopub.execute_input": "2024-11-21T17:08:48.308492Z",
     "iopub.status.busy": "2024-11-21T17:08:48.308382Z",
     "iopub.status.idle": "2024-11-21T17:08:48.503263Z",
     "shell.execute_reply": "2024-11-21T17:08:48.502921Z"
    },
    "jukit_cell_id": "JlHVCFc6jg"
   },
   "outputs": [],
   "source": [
    "import pathlib\n",
    "import sys\n",
    "\n",
    "import pandas as pd"
   ]
  },
  {
   "cell_type": "markdown",
   "metadata": {
    "jukit_cell_id": "D89Os0yFLC"
   },
   "source": [
    "# Custom Imports"
   ]
  },
  {
   "cell_type": "code",
   "execution_count": 2,
   "metadata": {
    "execution": {
     "iopub.execute_input": "2024-11-21T17:08:48.504943Z",
     "iopub.status.busy": "2024-11-21T17:08:48.504749Z",
     "iopub.status.idle": "2024-11-21T17:08:48.507703Z",
     "shell.execute_reply": "2024-11-21T17:08:48.507435Z"
    },
    "jukit_cell_id": "KnQdvFxPkd"
   },
   "outputs": [],
   "source": [
    "from comparators.PearsonsCorrelation import PearsonsCorrelation\n",
    "from comparison_tools.PairwiseCompareManager import PairwiseCompareManager"
   ]
  },
  {
   "cell_type": "markdown",
   "metadata": {
    "jukit_cell_id": "fIxGUGaKkR"
   },
   "source": [
    "# Inputs"
   ]
  },
  {
   "cell_type": "code",
   "execution_count": 3,
   "metadata": {
    "execution": {
     "iopub.execute_input": "2024-11-21T17:08:48.508823Z",
     "iopub.status.busy": "2024-11-21T17:08:48.508707Z",
     "iopub.status.idle": "2024-11-21T17:08:48.562915Z",
     "shell.execute_reply": "2024-11-21T17:08:48.562585Z"
    },
    "jukit_cell_id": "dlU1p2c9cE"
   },
   "outputs": [],
   "source": [
    "# Paths to original nuclear speckle data\n",
    "data_dir = pathlib.Path(\"../data\").resolve(strict=True)\n",
    "\n",
    "plate4df = pd.read_parquet(data_dir / \"Plate_4_bulk_feature_selected.parquet\")"
   ]
  },
  {
   "cell_type": "markdown",
   "metadata": {
    "jukit_cell_id": "ecmR6GvGEY"
   },
   "source": [
    "# Process Plate 4\n",
    "Each instance (row) represents a unique well."
   ]
  },
  {
   "cell_type": "code",
   "execution_count": 4,
   "metadata": {
    "execution": {
     "iopub.execute_input": "2024-11-21T17:08:48.564275Z",
     "iopub.status.busy": "2024-11-21T17:08:48.564115Z",
     "iopub.status.idle": "2024-11-21T17:08:48.575822Z",
     "shell.execute_reply": "2024-11-21T17:08:48.575542Z"
    },
    "jukit_cell_id": "gQ5lHlQ04X"
   },
   "outputs": [
    {
     "data": {
      "text/html": [
       "<div>\n",
       "<style scoped>\n",
       "    .dataframe tbody tr th:only-of-type {\n",
       "        vertical-align: middle;\n",
       "    }\n",
       "\n",
       "    .dataframe tbody tr th {\n",
       "        vertical-align: top;\n",
       "    }\n",
       "\n",
       "    .dataframe thead th {\n",
       "        text-align: right;\n",
       "    }\n",
       "</style>\n",
       "<table border=\"1\" class=\"dataframe\">\n",
       "  <thead>\n",
       "    <tr style=\"text-align: right;\">\n",
       "      <th></th>\n",
       "      <th>Metadata_WellRow</th>\n",
       "      <th>Metadata_WellCol</th>\n",
       "      <th>Metadata_gene_name</th>\n",
       "      <th>Metadata_genotype</th>\n",
       "      <th>Metadata_seed_density</th>\n",
       "      <th>Metadata_siRNA</th>\n",
       "      <th>Metadata_RNAiMax</th>\n",
       "      <th>Metadata_Concentration</th>\n",
       "      <th>Metadata_Plate</th>\n",
       "      <th>Metadata_Well</th>\n",
       "      <th>...</th>\n",
       "      <th>Nuclei_Texture_InverseDifferenceMoment_DAPI_3_00_256</th>\n",
       "      <th>Nuclei_Texture_InverseDifferenceMoment_DAPI_3_01_256</th>\n",
       "      <th>Nuclei_Texture_InverseDifferenceMoment_DAPI_3_02_256</th>\n",
       "      <th>Nuclei_Texture_InverseDifferenceMoment_GFP_3_02_256</th>\n",
       "      <th>Nuclei_Texture_InverseDifferenceMoment_RFP_3_00_256</th>\n",
       "      <th>Nuclei_Texture_InverseDifferenceMoment_RFP_3_01_256</th>\n",
       "      <th>Nuclei_Texture_InverseDifferenceMoment_RFP_3_02_256</th>\n",
       "      <th>Nuclei_Texture_InverseDifferenceMoment_RFP_3_03_256</th>\n",
       "      <th>Nuclei_Texture_SumEntropy_DAPI_3_03_256</th>\n",
       "      <th>Nuclei_Texture_SumVariance_DAPI_3_01_256</th>\n",
       "    </tr>\n",
       "  </thead>\n",
       "  <tbody>\n",
       "    <tr>\n",
       "      <th>0</th>\n",
       "      <td>B</td>\n",
       "      <td>2</td>\n",
       "      <td>NF1</td>\n",
       "      <td>WT</td>\n",
       "      <td>1000</td>\n",
       "      <td>No siRNA</td>\n",
       "      <td>0</td>\n",
       "      <td>0.000</td>\n",
       "      <td>Plate_4</td>\n",
       "      <td>B2</td>\n",
       "      <td>...</td>\n",
       "      <td>-0.165689</td>\n",
       "      <td>-0.446846</td>\n",
       "      <td>-0.312296</td>\n",
       "      <td>-0.401454</td>\n",
       "      <td>-2.032668</td>\n",
       "      <td>-2.252355</td>\n",
       "      <td>-2.122525</td>\n",
       "      <td>-2.177496</td>\n",
       "      <td>-1.448158</td>\n",
       "      <td>0.031227</td>\n",
       "    </tr>\n",
       "    <tr>\n",
       "      <th>1</th>\n",
       "      <td>B</td>\n",
       "      <td>3</td>\n",
       "      <td>NF1</td>\n",
       "      <td>WT</td>\n",
       "      <td>1000</td>\n",
       "      <td>Scramble</td>\n",
       "      <td>1</td>\n",
       "      <td>0.050</td>\n",
       "      <td>Plate_4</td>\n",
       "      <td>B3</td>\n",
       "      <td>...</td>\n",
       "      <td>-0.960711</td>\n",
       "      <td>-1.438404</td>\n",
       "      <td>-0.707251</td>\n",
       "      <td>0.738356</td>\n",
       "      <td>0.188400</td>\n",
       "      <td>-0.844323</td>\n",
       "      <td>-0.846457</td>\n",
       "      <td>-0.342180</td>\n",
       "      <td>1.306905</td>\n",
       "      <td>0.344522</td>\n",
       "    </tr>\n",
       "    <tr>\n",
       "      <th>2</th>\n",
       "      <td>B</td>\n",
       "      <td>4</td>\n",
       "      <td>NF1</td>\n",
       "      <td>WT</td>\n",
       "      <td>1000</td>\n",
       "      <td>Scramble</td>\n",
       "      <td>1</td>\n",
       "      <td>0.005</td>\n",
       "      <td>Plate_4</td>\n",
       "      <td>B4</td>\n",
       "      <td>...</td>\n",
       "      <td>1.910170</td>\n",
       "      <td>1.887803</td>\n",
       "      <td>2.496062</td>\n",
       "      <td>-1.858108</td>\n",
       "      <td>0.149212</td>\n",
       "      <td>-1.231724</td>\n",
       "      <td>-1.045144</td>\n",
       "      <td>-0.340360</td>\n",
       "      <td>-1.806753</td>\n",
       "      <td>0.169433</td>\n",
       "    </tr>\n",
       "    <tr>\n",
       "      <th>3</th>\n",
       "      <td>B</td>\n",
       "      <td>5</td>\n",
       "      <td>NF1</td>\n",
       "      <td>WT</td>\n",
       "      <td>1000</td>\n",
       "      <td>No siRNA</td>\n",
       "      <td>0</td>\n",
       "      <td>0.000</td>\n",
       "      <td>Plate_4</td>\n",
       "      <td>B5</td>\n",
       "      <td>...</td>\n",
       "      <td>2.573592</td>\n",
       "      <td>2.273321</td>\n",
       "      <td>2.652510</td>\n",
       "      <td>0.884645</td>\n",
       "      <td>0.187687</td>\n",
       "      <td>-0.199618</td>\n",
       "      <td>-0.262197</td>\n",
       "      <td>-0.310826</td>\n",
       "      <td>-1.312691</td>\n",
       "      <td>-0.182742</td>\n",
       "    </tr>\n",
       "    <tr>\n",
       "      <th>4</th>\n",
       "      <td>B</td>\n",
       "      <td>6</td>\n",
       "      <td>NF1</td>\n",
       "      <td>WT</td>\n",
       "      <td>1000</td>\n",
       "      <td>Scramble</td>\n",
       "      <td>1</td>\n",
       "      <td>0.005</td>\n",
       "      <td>Plate_4</td>\n",
       "      <td>B6</td>\n",
       "      <td>...</td>\n",
       "      <td>0.929752</td>\n",
       "      <td>1.058821</td>\n",
       "      <td>-0.080929</td>\n",
       "      <td>-0.245173</td>\n",
       "      <td>0.298632</td>\n",
       "      <td>-0.254777</td>\n",
       "      <td>-1.608270</td>\n",
       "      <td>-0.996690</td>\n",
       "      <td>0.151230</td>\n",
       "      <td>2.010409</td>\n",
       "    </tr>\n",
       "  </tbody>\n",
       "</table>\n",
       "<p>5 rows × 1182 columns</p>\n",
       "</div>"
      ],
      "text/plain": [
       "  Metadata_WellRow  Metadata_WellCol Metadata_gene_name Metadata_genotype  \\\n",
       "0                B                 2                NF1                WT   \n",
       "1                B                 3                NF1                WT   \n",
       "2                B                 4                NF1                WT   \n",
       "3                B                 5                NF1                WT   \n",
       "4                B                 6                NF1                WT   \n",
       "\n",
       "   Metadata_seed_density Metadata_siRNA  Metadata_RNAiMax  \\\n",
       "0                   1000       No siRNA                 0   \n",
       "1                   1000       Scramble                 1   \n",
       "2                   1000       Scramble                 1   \n",
       "3                   1000       No siRNA                 0   \n",
       "4                   1000       Scramble                 1   \n",
       "\n",
       "   Metadata_Concentration Metadata_Plate Metadata_Well  ...  \\\n",
       "0                   0.000        Plate_4            B2  ...   \n",
       "1                   0.050        Plate_4            B3  ...   \n",
       "2                   0.005        Plate_4            B4  ...   \n",
       "3                   0.000        Plate_4            B5  ...   \n",
       "4                   0.005        Plate_4            B6  ...   \n",
       "\n",
       "   Nuclei_Texture_InverseDifferenceMoment_DAPI_3_00_256  \\\n",
       "0                                          -0.165689      \n",
       "1                                          -0.960711      \n",
       "2                                           1.910170      \n",
       "3                                           2.573592      \n",
       "4                                           0.929752      \n",
       "\n",
       "   Nuclei_Texture_InverseDifferenceMoment_DAPI_3_01_256  \\\n",
       "0                                          -0.446846      \n",
       "1                                          -1.438404      \n",
       "2                                           1.887803      \n",
       "3                                           2.273321      \n",
       "4                                           1.058821      \n",
       "\n",
       "   Nuclei_Texture_InverseDifferenceMoment_DAPI_3_02_256  \\\n",
       "0                                          -0.312296      \n",
       "1                                          -0.707251      \n",
       "2                                           2.496062      \n",
       "3                                           2.652510      \n",
       "4                                          -0.080929      \n",
       "\n",
       "   Nuclei_Texture_InverseDifferenceMoment_GFP_3_02_256  \\\n",
       "0                                          -0.401454     \n",
       "1                                           0.738356     \n",
       "2                                          -1.858108     \n",
       "3                                           0.884645     \n",
       "4                                          -0.245173     \n",
       "\n",
       "   Nuclei_Texture_InverseDifferenceMoment_RFP_3_00_256  \\\n",
       "0                                          -2.032668     \n",
       "1                                           0.188400     \n",
       "2                                           0.149212     \n",
       "3                                           0.187687     \n",
       "4                                           0.298632     \n",
       "\n",
       "   Nuclei_Texture_InverseDifferenceMoment_RFP_3_01_256  \\\n",
       "0                                          -2.252355     \n",
       "1                                          -0.844323     \n",
       "2                                          -1.231724     \n",
       "3                                          -0.199618     \n",
       "4                                          -0.254777     \n",
       "\n",
       "   Nuclei_Texture_InverseDifferenceMoment_RFP_3_02_256  \\\n",
       "0                                          -2.122525     \n",
       "1                                          -0.846457     \n",
       "2                                          -1.045144     \n",
       "3                                          -0.262197     \n",
       "4                                          -1.608270     \n",
       "\n",
       "   Nuclei_Texture_InverseDifferenceMoment_RFP_3_03_256  \\\n",
       "0                                          -2.177496     \n",
       "1                                          -0.342180     \n",
       "2                                          -0.340360     \n",
       "3                                          -0.310826     \n",
       "4                                          -0.996690     \n",
       "\n",
       "   Nuclei_Texture_SumEntropy_DAPI_3_03_256  \\\n",
       "0                                -1.448158   \n",
       "1                                 1.306905   \n",
       "2                                -1.806753   \n",
       "3                                -1.312691   \n",
       "4                                 0.151230   \n",
       "\n",
       "   Nuclei_Texture_SumVariance_DAPI_3_01_256  \n",
       "0                                  0.031227  \n",
       "1                                  0.344522  \n",
       "2                                  0.169433  \n",
       "3                                 -0.182742  \n",
       "4                                  2.010409  \n",
       "\n",
       "[5 rows x 1182 columns]"
      ]
     },
     "execution_count": 4,
     "metadata": {},
     "output_type": "execute_result"
    }
   ],
   "source": [
    "plate4df[\"Metadata_siRNA\"] = plate4df[\"Metadata_siRNA\"].fillna(\"No siRNA\")\n",
    "\n",
    "feat_cols = plate4df.columns[~plate4df.columns.str.contains(\"Metadata\")].tolist()\n",
    "\n",
    "plate4df.head()"
   ]
  },
  {
   "cell_type": "code",
   "execution_count": 5,
   "metadata": {
    "execution": {
     "iopub.execute_input": "2024-11-21T17:08:48.605253Z",
     "iopub.status.busy": "2024-11-21T17:08:48.604917Z",
     "iopub.status.idle": "2024-11-21T17:08:48.607235Z",
     "shell.execute_reply": "2024-11-21T17:08:48.606956Z"
    },
    "jukit_cell_id": "ybX13ZBK8Q"
   },
   "outputs": [
    {
     "name": "stdout",
     "output_type": "stream",
     "text": [
      "\n",
      "Input Dataframe shape: (60, 1182)\n",
      "\n"
     ]
    }
   ],
   "source": [
    "print(f\"\\nInput Dataframe shape: {plate4df.shape}\\n\")"
   ]
  },
  {
   "cell_type": "markdown",
   "metadata": {
    "jukit_cell_id": "C6AaBtUOCj"
   },
   "source": [
    "# siRNA Comparisons\n",
    "In this dataset, each instance (row) corresponds to a well.\n",
    "When using the PairwiseCompareManager the _same_columns and _different_columns parameters must follow three conditions:\n",
    "1. _same_columns must include at least one list element if _different_columns has less than two list elements.\n",
    "2. _different_columns must contain one or more list elements.\n",
    "3. _same_columns and _different_columns should not contain any of the same columns."
   ]
  },
  {
   "cell_type": "markdown",
   "metadata": {
    "jukit_cell_id": "6gx14BlSwz"
   },
   "source": [
    "## Compare between wells and siRNA treatments with the same concentration"
   ]
  },
  {
   "cell_type": "code",
   "execution_count": 6,
   "metadata": {
    "execution": {
     "iopub.execute_input": "2024-11-21T17:08:48.608235Z",
     "iopub.status.busy": "2024-11-21T17:08:48.608136Z",
     "iopub.status.idle": "2024-11-21T17:09:10.774706Z",
     "shell.execute_reply": "2024-11-21T17:09:10.774353Z"
    },
    "jukit_cell_id": "CRa8vLBRj8"
   },
   "outputs": [],
   "source": [
    "pearsons_comparator = PearsonsCorrelation()\n",
    "\n",
    "comparer = PairwiseCompareManager(\n",
    "    _df=plate4df.copy(),\n",
    "    _comparator=pearsons_comparator,\n",
    "    _different_columns=[\"Metadata_Concentration\", \"Metadata_Well\"],\n",
    "    _feat_cols=feat_cols,\n",
    ")\n",
    "\n",
    "micdf = comparer()"
   ]
  },
  {
   "cell_type": "code",
   "execution_count": 7,
   "metadata": {
    "execution": {
     "iopub.execute_input": "2024-11-21T17:09:10.776378Z",
     "iopub.status.busy": "2024-11-21T17:09:10.776248Z",
     "iopub.status.idle": "2024-11-21T17:09:10.781129Z",
     "shell.execute_reply": "2024-11-21T17:09:10.780827Z"
    },
    "jukit_cell_id": "cGLOXfXNrN"
   },
   "outputs": [
    {
     "data": {
      "text/html": [
       "<div>\n",
       "<style scoped>\n",
       "    .dataframe tbody tr th:only-of-type {\n",
       "        vertical-align: middle;\n",
       "    }\n",
       "\n",
       "    .dataframe tbody tr th {\n",
       "        vertical-align: top;\n",
       "    }\n",
       "\n",
       "    .dataframe thead th {\n",
       "        text-align: right;\n",
       "    }\n",
       "</style>\n",
       "<table border=\"1\" class=\"dataframe\">\n",
       "  <thead>\n",
       "    <tr style=\"text-align: right;\">\n",
       "      <th></th>\n",
       "      <th>pearsons_correlation</th>\n",
       "      <th>Metadata_Concentration__antehoc_group0</th>\n",
       "      <th>Metadata_Concentration__antehoc_group1</th>\n",
       "      <th>Metadata_Well__posthoc_group0</th>\n",
       "      <th>Metadata_Well__posthoc_group1</th>\n",
       "    </tr>\n",
       "  </thead>\n",
       "  <tbody>\n",
       "    <tr>\n",
       "      <th>0</th>\n",
       "      <td>-0.025999</td>\n",
       "      <td>0.0</td>\n",
       "      <td>0.001</td>\n",
       "      <td>B11</td>\n",
       "      <td>E10</td>\n",
       "    </tr>\n",
       "    <tr>\n",
       "      <th>1</th>\n",
       "      <td>-0.035167</td>\n",
       "      <td>0.0</td>\n",
       "      <td>0.001</td>\n",
       "      <td>B11</td>\n",
       "      <td>E4</td>\n",
       "    </tr>\n",
       "    <tr>\n",
       "      <th>2</th>\n",
       "      <td>0.148778</td>\n",
       "      <td>0.0</td>\n",
       "      <td>0.001</td>\n",
       "      <td>B11</td>\n",
       "      <td>E7</td>\n",
       "    </tr>\n",
       "    <tr>\n",
       "      <th>3</th>\n",
       "      <td>0.030356</td>\n",
       "      <td>0.0</td>\n",
       "      <td>0.001</td>\n",
       "      <td>B11</td>\n",
       "      <td>F10</td>\n",
       "    </tr>\n",
       "    <tr>\n",
       "      <th>4</th>\n",
       "      <td>-0.163734</td>\n",
       "      <td>0.0</td>\n",
       "      <td>0.001</td>\n",
       "      <td>B11</td>\n",
       "      <td>F4</td>\n",
       "    </tr>\n",
       "  </tbody>\n",
       "</table>\n",
       "</div>"
      ],
      "text/plain": [
       "   pearsons_correlation  Metadata_Concentration__antehoc_group0  \\\n",
       "0             -0.025999                                     0.0   \n",
       "1             -0.035167                                     0.0   \n",
       "2              0.148778                                     0.0   \n",
       "3              0.030356                                     0.0   \n",
       "4             -0.163734                                     0.0   \n",
       "\n",
       "   Metadata_Concentration__antehoc_group1 Metadata_Well__posthoc_group0  \\\n",
       "0                                   0.001                           B11   \n",
       "1                                   0.001                           B11   \n",
       "2                                   0.001                           B11   \n",
       "3                                   0.001                           B11   \n",
       "4                                   0.001                           B11   \n",
       "\n",
       "  Metadata_Well__posthoc_group1  \n",
       "0                           E10  \n",
       "1                            E4  \n",
       "2                            E7  \n",
       "3                           F10  \n",
       "4                            F4  "
      ]
     },
     "execution_count": 7,
     "metadata": {},
     "output_type": "execute_result"
    }
   ],
   "source": [
    "micdf.head()"
   ]
  },
  {
   "cell_type": "code",
   "execution_count": 8,
   "metadata": {
    "execution": {
     "iopub.execute_input": "2024-11-21T17:09:10.782298Z",
     "iopub.status.busy": "2024-11-21T17:09:10.782186Z",
     "iopub.status.idle": "2024-11-21T17:09:10.784313Z",
     "shell.execute_reply": "2024-11-21T17:09:10.784023Z"
    },
    "jukit_cell_id": "qzMvL0c8sb"
   },
   "outputs": [
    {
     "name": "stdout",
     "output_type": "stream",
     "text": [
      "\n",
      "Output Dataframe shape: (1485, 5)\n",
      "\n"
     ]
    }
   ],
   "source": [
    "print(f\"\\nOutput Dataframe shape: {micdf.shape}\\n\")"
   ]
  },
  {
   "cell_type": "code",
   "execution_count": 9,
   "metadata": {
    "execution": {
     "iopub.execute_input": "2024-11-21T17:09:10.785407Z",
     "iopub.status.busy": "2024-11-21T17:09:10.785297Z",
     "iopub.status.idle": "2024-11-21T17:09:10.787247Z",
     "shell.execute_reply": "2024-11-21T17:09:10.786952Z"
    },
    "jukit_cell_id": "7modF1v2ll"
   },
   "outputs": [
    {
     "name": "stdout",
     "output_type": "stream",
     "text": [
      "Output Dataframe Columns:\n",
      "['pearsons_correlation', 'Metadata_Concentration__antehoc_group0', 'Metadata_Concentration__antehoc_group1', 'Metadata_Well__posthoc_group0', 'Metadata_Well__posthoc_group1']\n"
     ]
    }
   ],
   "source": [
    "print(f\"Output Dataframe Columns:\\n{micdf.columns.tolist()}\")"
   ]
  },
  {
   "cell_type": "markdown",
   "metadata": {
    "jukit_cell_id": "ucjifXHnJI"
   },
   "source": [
    "## Compare between different siRNAs and Wells at the same concentrations"
   ]
  },
  {
   "cell_type": "code",
   "execution_count": 10,
   "metadata": {
    "execution": {
     "iopub.execute_input": "2024-11-21T17:09:10.788463Z",
     "iopub.status.busy": "2024-11-21T17:09:10.788240Z",
     "iopub.status.idle": "2024-11-21T17:09:12.846748Z",
     "shell.execute_reply": "2024-11-21T17:09:12.846351Z"
    },
    "jukit_cell_id": "JPLwsPbVsU"
   },
   "outputs": [],
   "source": [
    "pearsons_comparator = PearsonsCorrelation()\n",
    "\n",
    "comparer = PairwiseCompareManager(\n",
    "    _df=plate4df.copy(),\n",
    "    _comparator=pearsons_comparator,\n",
    "    _same_columns=[\"Metadata_Concentration\"],\n",
    "    _different_columns=[\"Metadata_siRNA\", \"Metadata_Well\"],\n",
    "    _feat_cols=feat_cols,\n",
    ")\n",
    "\n",
    "micdf = comparer()"
   ]
  },
  {
   "cell_type": "code",
   "execution_count": 11,
   "metadata": {
    "execution": {
     "iopub.execute_input": "2024-11-21T17:09:12.848417Z",
     "iopub.status.busy": "2024-11-21T17:09:12.848289Z",
     "iopub.status.idle": "2024-11-21T17:09:12.854232Z",
     "shell.execute_reply": "2024-11-21T17:09:12.853940Z"
    },
    "jukit_cell_id": "lFR01EXVLC"
   },
   "outputs": [
    {
     "data": {
      "text/html": [
       "<div>\n",
       "<style scoped>\n",
       "    .dataframe tbody tr th:only-of-type {\n",
       "        vertical-align: middle;\n",
       "    }\n",
       "\n",
       "    .dataframe tbody tr th {\n",
       "        vertical-align: top;\n",
       "    }\n",
       "\n",
       "    .dataframe thead th {\n",
       "        text-align: right;\n",
       "    }\n",
       "</style>\n",
       "<table border=\"1\" class=\"dataframe\">\n",
       "  <thead>\n",
       "    <tr style=\"text-align: right;\">\n",
       "      <th></th>\n",
       "      <th>pearsons_correlation</th>\n",
       "      <th>Metadata_Concentration__antehoc_group0</th>\n",
       "      <th>Metadata_Concentration__antehoc_group1</th>\n",
       "      <th>Metadata_siRNA__posthoc_group0</th>\n",
       "      <th>Metadata_siRNA__posthoc_group1</th>\n",
       "      <th>Metadata_Well__posthoc_group0</th>\n",
       "      <th>Metadata_Well__posthoc_group1</th>\n",
       "    </tr>\n",
       "  </thead>\n",
       "  <tbody>\n",
       "    <tr>\n",
       "      <th>0</th>\n",
       "      <td>0.128001</td>\n",
       "      <td>(0.001,)</td>\n",
       "      <td>(0.001,)</td>\n",
       "      <td>NF1 Target 1</td>\n",
       "      <td>NF1 Target 2</td>\n",
       "      <td>F10</td>\n",
       "      <td>G10</td>\n",
       "    </tr>\n",
       "    <tr>\n",
       "      <th>1</th>\n",
       "      <td>0.190290</td>\n",
       "      <td>(0.001,)</td>\n",
       "      <td>(0.001,)</td>\n",
       "      <td>NF1 Target 1</td>\n",
       "      <td>NF1 Target 2</td>\n",
       "      <td>F10</td>\n",
       "      <td>G4</td>\n",
       "    </tr>\n",
       "    <tr>\n",
       "      <th>2</th>\n",
       "      <td>0.173737</td>\n",
       "      <td>(0.001,)</td>\n",
       "      <td>(0.001,)</td>\n",
       "      <td>NF1 Target 1</td>\n",
       "      <td>NF1 Target 2</td>\n",
       "      <td>F10</td>\n",
       "      <td>G7</td>\n",
       "    </tr>\n",
       "    <tr>\n",
       "      <th>3</th>\n",
       "      <td>-0.258292</td>\n",
       "      <td>(0.001,)</td>\n",
       "      <td>(0.001,)</td>\n",
       "      <td>NF1 Target 1</td>\n",
       "      <td>Scramble</td>\n",
       "      <td>F10</td>\n",
       "      <td>E10</td>\n",
       "    </tr>\n",
       "    <tr>\n",
       "      <th>4</th>\n",
       "      <td>0.089742</td>\n",
       "      <td>(0.001,)</td>\n",
       "      <td>(0.001,)</td>\n",
       "      <td>NF1 Target 1</td>\n",
       "      <td>Scramble</td>\n",
       "      <td>F10</td>\n",
       "      <td>E4</td>\n",
       "    </tr>\n",
       "  </tbody>\n",
       "</table>\n",
       "</div>"
      ],
      "text/plain": [
       "   pearsons_correlation Metadata_Concentration__antehoc_group0  \\\n",
       "0              0.128001                               (0.001,)   \n",
       "1              0.190290                               (0.001,)   \n",
       "2              0.173737                               (0.001,)   \n",
       "3             -0.258292                               (0.001,)   \n",
       "4              0.089742                               (0.001,)   \n",
       "\n",
       "  Metadata_Concentration__antehoc_group1 Metadata_siRNA__posthoc_group0  \\\n",
       "0                               (0.001,)                   NF1 Target 1   \n",
       "1                               (0.001,)                   NF1 Target 1   \n",
       "2                               (0.001,)                   NF1 Target 1   \n",
       "3                               (0.001,)                   NF1 Target 1   \n",
       "4                               (0.001,)                   NF1 Target 1   \n",
       "\n",
       "  Metadata_siRNA__posthoc_group1 Metadata_Well__posthoc_group0  \\\n",
       "0                   NF1 Target 2                           F10   \n",
       "1                   NF1 Target 2                           F10   \n",
       "2                   NF1 Target 2                           F10   \n",
       "3                       Scramble                           F10   \n",
       "4                       Scramble                           F10   \n",
       "\n",
       "  Metadata_Well__posthoc_group1  \n",
       "0                           G10  \n",
       "1                            G4  \n",
       "2                            G7  \n",
       "3                           E10  \n",
       "4                            E4  "
      ]
     },
     "execution_count": 11,
     "metadata": {},
     "output_type": "execute_result"
    }
   ],
   "source": [
    "micdf.head()"
   ]
  },
  {
   "cell_type": "code",
   "execution_count": 12,
   "metadata": {
    "execution": {
     "iopub.execute_input": "2024-11-21T17:09:12.855400Z",
     "iopub.status.busy": "2024-11-21T17:09:12.855290Z",
     "iopub.status.idle": "2024-11-21T17:09:12.857375Z",
     "shell.execute_reply": "2024-11-21T17:09:12.857086Z"
    },
    "jukit_cell_id": "EiRceI8zqd"
   },
   "outputs": [
    {
     "name": "stdout",
     "output_type": "stream",
     "text": [
      "\n",
      "Output Dataframe shape: (135, 7)\n",
      "\n"
     ]
    }
   ],
   "source": [
    "print(f\"\\nOutput Dataframe shape: {micdf.shape}\\n\")"
   ]
  },
  {
   "cell_type": "code",
   "execution_count": 13,
   "metadata": {
    "execution": {
     "iopub.execute_input": "2024-11-21T17:09:12.858449Z",
     "iopub.status.busy": "2024-11-21T17:09:12.858346Z",
     "iopub.status.idle": "2024-11-21T17:09:12.860296Z",
     "shell.execute_reply": "2024-11-21T17:09:12.860027Z"
    },
    "jukit_cell_id": "uHLGwABthL"
   },
   "outputs": [
    {
     "name": "stdout",
     "output_type": "stream",
     "text": [
      "Output Dataframe Columns:\n",
      "['pearsons_correlation', 'Metadata_Concentration__antehoc_group0', 'Metadata_Concentration__antehoc_group1', 'Metadata_siRNA__posthoc_group0', 'Metadata_siRNA__posthoc_group1', 'Metadata_Well__posthoc_group0', 'Metadata_Well__posthoc_group1']\n"
     ]
    }
   ],
   "source": [
    "print(f\"Output Dataframe Columns:\\n{micdf.columns.tolist()}\")"
   ]
  },
  {
   "cell_type": "markdown",
   "metadata": {
    "jukit_cell_id": "K9KWpg6A7A"
   },
   "source": [
    "## Compare between different stains, conditions, and wells\n",
    "Supplying the _drop_cols parameter excludes wells from the output dataframe, even though wells are used to compare groups."
   ]
  },
  {
   "cell_type": "code",
   "execution_count": 14,
   "metadata": {
    "execution": {
     "iopub.execute_input": "2024-11-21T17:09:12.861359Z",
     "iopub.status.busy": "2024-11-21T17:09:12.861253Z",
     "iopub.status.idle": "2024-11-21T17:09:14.911473Z",
     "shell.execute_reply": "2024-11-21T17:09:14.911067Z"
    },
    "jukit_cell_id": "OHRc2Dyid6"
   },
   "outputs": [],
   "source": [
    "pearsons_comparator = PearsonsCorrelation()\n",
    "\n",
    "comparer = PairwiseCompareManager(\n",
    "    _df=plate4df.copy(),\n",
    "    _comparator=pearsons_comparator,\n",
    "    _same_columns=[\"Metadata_Concentration\"],\n",
    "    _different_columns=[\"Metadata_siRNA\", \"Metadata_Well\"],\n",
    "    _feat_cols=feat_cols,\n",
    "    _drop_cols=[\"Metadata_Concentration\", \"Metadata_Well\"],\n",
    ")\n",
    "\n",
    "micdf = comparer()"
   ]
  },
  {
   "cell_type": "code",
   "execution_count": 15,
   "metadata": {
    "execution": {
     "iopub.execute_input": "2024-11-21T17:09:14.913207Z",
     "iopub.status.busy": "2024-11-21T17:09:14.913050Z",
     "iopub.status.idle": "2024-11-21T17:09:14.918322Z",
     "shell.execute_reply": "2024-11-21T17:09:14.918027Z"
    },
    "jukit_cell_id": "rGAPBpItug"
   },
   "outputs": [
    {
     "data": {
      "text/html": [
       "<div>\n",
       "<style scoped>\n",
       "    .dataframe tbody tr th:only-of-type {\n",
       "        vertical-align: middle;\n",
       "    }\n",
       "\n",
       "    .dataframe tbody tr th {\n",
       "        vertical-align: top;\n",
       "    }\n",
       "\n",
       "    .dataframe thead th {\n",
       "        text-align: right;\n",
       "    }\n",
       "</style>\n",
       "<table border=\"1\" class=\"dataframe\">\n",
       "  <thead>\n",
       "    <tr style=\"text-align: right;\">\n",
       "      <th></th>\n",
       "      <th>pearsons_correlation</th>\n",
       "      <th>Metadata_siRNA__posthoc_group0</th>\n",
       "      <th>Metadata_siRNA__posthoc_group1</th>\n",
       "    </tr>\n",
       "  </thead>\n",
       "  <tbody>\n",
       "    <tr>\n",
       "      <th>0</th>\n",
       "      <td>0.128001</td>\n",
       "      <td>(NF1 Target 1, F10)</td>\n",
       "      <td>(NF1 Target 2, G10)</td>\n",
       "    </tr>\n",
       "    <tr>\n",
       "      <th>1</th>\n",
       "      <td>0.190290</td>\n",
       "      <td>(NF1 Target 1, F10)</td>\n",
       "      <td>(NF1 Target 2, G4)</td>\n",
       "    </tr>\n",
       "    <tr>\n",
       "      <th>2</th>\n",
       "      <td>0.173737</td>\n",
       "      <td>(NF1 Target 1, F10)</td>\n",
       "      <td>(NF1 Target 2, G7)</td>\n",
       "    </tr>\n",
       "    <tr>\n",
       "      <th>3</th>\n",
       "      <td>-0.258292</td>\n",
       "      <td>(NF1 Target 1, F10)</td>\n",
       "      <td>(Scramble, E10)</td>\n",
       "    </tr>\n",
       "    <tr>\n",
       "      <th>4</th>\n",
       "      <td>0.089742</td>\n",
       "      <td>(NF1 Target 1, F10)</td>\n",
       "      <td>(Scramble, E4)</td>\n",
       "    </tr>\n",
       "  </tbody>\n",
       "</table>\n",
       "</div>"
      ],
      "text/plain": [
       "   pearsons_correlation Metadata_siRNA__posthoc_group0  \\\n",
       "0              0.128001            (NF1 Target 1, F10)   \n",
       "1              0.190290            (NF1 Target 1, F10)   \n",
       "2              0.173737            (NF1 Target 1, F10)   \n",
       "3             -0.258292            (NF1 Target 1, F10)   \n",
       "4              0.089742            (NF1 Target 1, F10)   \n",
       "\n",
       "  Metadata_siRNA__posthoc_group1  \n",
       "0            (NF1 Target 2, G10)  \n",
       "1             (NF1 Target 2, G4)  \n",
       "2             (NF1 Target 2, G7)  \n",
       "3                (Scramble, E10)  \n",
       "4                 (Scramble, E4)  "
      ]
     },
     "execution_count": 15,
     "metadata": {},
     "output_type": "execute_result"
    }
   ],
   "source": [
    "micdf.head()"
   ]
  },
  {
   "cell_type": "code",
   "execution_count": 16,
   "metadata": {
    "execution": {
     "iopub.execute_input": "2024-11-21T17:09:14.919518Z",
     "iopub.status.busy": "2024-11-21T17:09:14.919410Z",
     "iopub.status.idle": "2024-11-21T17:09:14.921455Z",
     "shell.execute_reply": "2024-11-21T17:09:14.921171Z"
    },
    "jukit_cell_id": "zZHKZyRQcw"
   },
   "outputs": [
    {
     "name": "stdout",
     "output_type": "stream",
     "text": [
      "\n",
      "Output Dataframe shape: (135, 3)\n",
      "\n"
     ]
    }
   ],
   "source": [
    "print(f\"\\nOutput Dataframe shape: {micdf.shape}\\n\")"
   ]
  },
  {
   "cell_type": "code",
   "execution_count": 17,
   "metadata": {
    "execution": {
     "iopub.execute_input": "2024-11-21T17:09:14.922522Z",
     "iopub.status.busy": "2024-11-21T17:09:14.922421Z",
     "iopub.status.idle": "2024-11-21T17:09:14.924592Z",
     "shell.execute_reply": "2024-11-21T17:09:14.924252Z"
    },
    "jukit_cell_id": "8G7ZiPRvd8"
   },
   "outputs": [
    {
     "name": "stdout",
     "output_type": "stream",
     "text": [
      "Output Dataframe Columns:\n",
      "['pearsons_correlation', 'Metadata_siRNA__posthoc_group0', 'Metadata_siRNA__posthoc_group1']\n"
     ]
    }
   ],
   "source": [
    "print(f\"Output Dataframe Columns:\\n{micdf.columns.tolist()}\")"
   ]
  }
 ],
 "metadata": {
  "anaconda-cloud": {},
  "kernelspec": {
   "display_name": "python",
   "language": "python",
   "name": "python3"
  },
  "language_info": {
   "codemirror_mode": {
    "name": "ipython",
    "version": 3
   },
   "file_extension": ".py",
   "mimetype": "text/x-python",
   "name": "python",
   "nbconvert_exporter": "python",
   "pygments_lexer": "ipython3",
   "version": "3.10.12"
  }
 },
 "nbformat": 4,
 "nbformat_minor": 4
}
