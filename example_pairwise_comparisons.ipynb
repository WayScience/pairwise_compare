{
 "cells": [
  {
   "cell_type": "markdown",
   "metadata": {
    "jukit_cell_id": "diZkzamaCr"
   },
   "source": [
    "# Examples of using the PairwiseCompareManager\n",
    "There are two primary steps:\n",
    "1. Organize your data into a tidy pandas dataframe.\n",
    "2. Compute the comparisons."
   ]
  },
  {
   "cell_type": "code",
   "execution_count": 1,
   "metadata": {
    "execution": {
     "iopub.execute_input": "2024-10-18T21:34:04.262281Z",
     "iopub.status.busy": "2024-10-18T21:34:04.262128Z",
     "iopub.status.idle": "2024-10-18T21:34:04.498946Z",
     "shell.execute_reply": "2024-10-18T21:34:04.498499Z"
    },
    "jukit_cell_id": "JlHVCFc6jg"
   },
   "outputs": [],
   "source": [
    "import pathlib\n",
    "import sys\n",
    "\n",
    "import pandas as pd"
   ]
  },
  {
   "cell_type": "markdown",
   "metadata": {
    "jukit_cell_id": "09DzTtojev"
   },
   "source": [
    "## Find the root of the git repo on the host system"
   ]
  },
  {
   "cell_type": "code",
   "execution_count": 2,
   "metadata": {
    "execution": {
     "iopub.execute_input": "2024-10-18T21:34:04.501231Z",
     "iopub.status.busy": "2024-10-18T21:34:04.500841Z",
     "iopub.status.idle": "2024-10-18T21:34:04.503750Z",
     "shell.execute_reply": "2024-10-18T21:34:04.503391Z"
    },
    "jukit_cell_id": "ZSBTA9IqxD"
   },
   "outputs": [],
   "source": [
    "# Get the current working directory\n",
    "cwd = pathlib.Path.cwd()\n",
    "\n",
    "if (cwd / \".git\").is_dir():\n",
    "    root_dir = cwd\n",
    "\n",
    "else:\n",
    "    root_dir = None\n",
    "    for parent in cwd.parents:\n",
    "        if (parent / \".git\").is_dir():\n",
    "            root_dir = parent\n",
    "            break\n",
    "\n",
    "# Check if a Git root directory was found\n",
    "if root_dir is None:\n",
    "    raise FileNotFoundError(\"No Git root directory found.\")"
   ]
  },
  {
   "cell_type": "markdown",
   "metadata": {
    "jukit_cell_id": "D89Os0yFLC"
   },
   "source": [
    "# Custom Imports"
   ]
  },
  {
   "cell_type": "code",
   "execution_count": 3,
   "metadata": {
    "execution": {
     "iopub.execute_input": "2024-10-18T21:34:04.505424Z",
     "iopub.status.busy": "2024-10-18T21:34:04.505092Z",
     "iopub.status.idle": "2024-10-18T21:34:04.508691Z",
     "shell.execute_reply": "2024-10-18T21:34:04.508334Z"
    },
    "jukit_cell_id": "KnQdvFxPkd"
   },
   "outputs": [],
   "source": [
    "sys.path.append(f\"{root_dir}/0.data_analysis_and_processing/utils\")\n",
    "\n",
    "from MIC import MIC\n",
    "from PairwiseCompareManager import PairwiseCompareManager"
   ]
  },
  {
   "cell_type": "markdown",
   "metadata": {
    "jukit_cell_id": "fIxGUGaKkR"
   },
   "source": [
    "# Inputs"
   ]
  },
  {
   "cell_type": "code",
   "execution_count": 4,
   "metadata": {
    "execution": {
     "iopub.execute_input": "2024-10-18T21:34:04.510250Z",
     "iopub.status.busy": "2024-10-18T21:34:04.509978Z",
     "iopub.status.idle": "2024-10-18T21:34:04.988565Z",
     "shell.execute_reply": "2024-10-18T21:34:04.988173Z"
    },
    "jukit_cell_id": "dlU1p2c9cE"
   },
   "outputs": [],
   "source": [
    "# Paths to original nuclear speckle data\n",
    "data_dir = root_dir / \"nuclear_speckles_data\"\n",
    "nuclear_mask_dir = (data_dir / \"Nuclear_masks\").resolve(strict=True)\n",
    "sc_profiles_path = list((data_dir / \"Preprocessed_data/single_cell_profiles\").resolve(strict=True).glob(\"*feature_selected*.parquet\"))\n",
    "\n",
    "# Load single-cell profile data\n",
    "scdfs = [pd.read_parquet(sc_path) for sc_path in sc_profiles_path if sc_path.is_file()]"
   ]
  },
  {
   "cell_type": "markdown",
   "metadata": {
    "jukit_cell_id": "2nCHpCWHPX"
   },
   "source": [
    "# Outputs"
   ]
  },
  {
   "cell_type": "code",
   "execution_count": 5,
   "metadata": {
    "execution": {
     "iopub.execute_input": "2024-10-18T21:34:04.990618Z",
     "iopub.status.busy": "2024-10-18T21:34:04.990382Z",
     "iopub.status.idle": "2024-10-18T21:34:04.992656Z",
     "shell.execute_reply": "2024-10-18T21:34:04.992383Z"
    },
    "jukit_cell_id": "i6nQ6vwPOY"
   },
   "outputs": [],
   "source": [
    "distribution_figures_path = pathlib.Path(\"well_sirna_mic_distribution_figures\")\n",
    "distribution_figures_path.mkdir(parents=True, exist_ok=True)\n",
    "\n",
    "mic_comparisons_path = pathlib.Path(\"mic_comparisons_data\")\n",
    "mic_comparisons_path.mkdir(parents=True, exist_ok=True)"
   ]
  },
  {
   "cell_type": "markdown",
   "metadata": {
    "jukit_cell_id": "5HpdTkrhdj"
   },
   "source": [
    "# Processing"
   ]
  },
  {
   "cell_type": "markdown",
   "metadata": {
    "jukit_cell_id": "AMY2NJE0ci"
   },
   "source": [
    "## Combine Common Data\n",
    "Column names are used to combine common single-cell data."
   ]
  },
  {
   "cell_type": "code",
   "execution_count": 6,
   "metadata": {
    "execution": {
     "iopub.execute_input": "2024-10-18T21:34:04.994070Z",
     "iopub.status.busy": "2024-10-18T21:34:04.993880Z",
     "iopub.status.idle": "2024-10-18T21:34:05.374789Z",
     "shell.execute_reply": "2024-10-18T21:34:05.374306Z"
    },
    "jukit_cell_id": "TfjgwzLhIQ"
   },
   "outputs": [],
   "source": [
    "common_columns = scdfs[0].columns\n",
    "for scdf in scdfs[1:]:\n",
    "    common_columns = common_columns.intersection(scdf.columns)\n",
    "\n",
    "scdfs = pd.concat(scdfs, axis=0)[common_columns]"
   ]
  },
  {
   "cell_type": "code",
   "execution_count": 7,
   "metadata": {
    "execution": {
     "iopub.execute_input": "2024-10-18T21:34:05.376766Z",
     "iopub.status.busy": "2024-10-18T21:34:05.376587Z",
     "iopub.status.idle": "2024-10-18T21:34:05.593179Z",
     "shell.execute_reply": "2024-10-18T21:34:05.592667Z"
    },
    "jukit_cell_id": "GKjo1VAEwW"
   },
   "outputs": [
    {
     "name": "stdout",
     "output_type": "stream",
     "text": [
      "      Metadata_CellLine Metadata_Condition  Metadata_ImageNumber  \\\n",
      "0                  786O                NTC                     1   \n",
      "1                  786O                NTC                     1   \n",
      "2                  786O                NTC                     1   \n",
      "3                  786O                NTC                     1   \n",
      "4                  786O                NTC                     1   \n",
      "...                 ...                ...                   ...   \n",
      "63354              293T          untreated                   407   \n",
      "63355              293T          untreated                   407   \n",
      "63356              293T          untreated                   407   \n",
      "63357              293T          untreated                   407   \n",
      "63358              293T          untreated                   407   \n",
      "\n",
      "      Metadata_Plate Metadata_Well Metadata_Site  Metadata_Nuclei_Site_Count  \\\n",
      "0             slide3            A1           M14                          40   \n",
      "1             slide3            A1           M14                          40   \n",
      "2             slide3            A1           M14                          40   \n",
      "3             slide3            A1           M14                          40   \n",
      "4             slide3            A1           M14                          40   \n",
      "...              ...           ...           ...                         ...   \n",
      "63354         slide4            B4            M9                         856   \n",
      "63355         slide4            B4            M9                         856   \n",
      "63356         slide4            B4            M9                         856   \n",
      "63357         slide4            B4            M9                         856   \n",
      "63358         slide4            B4            M9                         856   \n",
      "\n",
      "       Metadata_Nuclei_Location_Center_X  Metadata_Nuclei_Location_Center_Y  \\\n",
      "0                             440.421603                          78.968641   \n",
      "1                             419.490134                         104.726914   \n",
      "2                             228.128582                        1150.712626   \n",
      "3                             193.636493                        1293.612259   \n",
      "4                             238.685272                        1344.190989   \n",
      "...                                  ...                                ...   \n",
      "63354                         259.852031                        2265.419729   \n",
      "63355                        1031.180619                        2264.759513   \n",
      "63356                         738.728900                        2267.087809   \n",
      "63357                        2272.609593                        2271.556609   \n",
      "63358                         824.547855                        2280.754675   \n",
      "\n",
      "       Nuclei_AreaShape_Area  ...  Nuclei_Texture_Correlation_DAPI_3_02_256  \\\n",
      "0                  -0.455396  ...                                  0.076553   \n",
      "1                  -0.768349  ...                                  0.440507   \n",
      "2                   1.681257  ...                                  0.442093   \n",
      "3                  -0.515006  ...                                 -0.204978   \n",
      "4                  -0.358529  ...                                 -0.196367   \n",
      "...                      ...  ...                                       ...   \n",
      "63354              -1.231858  ...                                 -1.567802   \n",
      "63355               0.397688  ...                                  0.873889   \n",
      "63356              -0.990121  ...                                  0.239501   \n",
      "63357               0.088127  ...                                  0.637374   \n",
      "63358              -1.449246  ...                                 -0.091024   \n",
      "\n",
      "       Nuclei_Texture_Correlation_DAPI_3_03_256  \\\n",
      "0                                     -0.955255   \n",
      "1                                     -0.935149   \n",
      "2                                     -0.002420   \n",
      "3                                     -1.124243   \n",
      "4                                     -1.294883   \n",
      "...                                         ...   \n",
      "63354                                 -1.402389   \n",
      "63355                                  0.957832   \n",
      "63356                                 -0.726772   \n",
      "63357                                  0.329904   \n",
      "63358                                 -0.500739   \n",
      "\n",
      "       Nuclei_Texture_Correlation_GOLD_3_00_256  \\\n",
      "0                                     -4.683966   \n",
      "1                                     -4.683966   \n",
      "2                                      0.477625   \n",
      "3                                     -0.895212   \n",
      "4                                     -1.379071   \n",
      "...                                         ...   \n",
      "63354                                 -1.699914   \n",
      "63355                                  0.256921   \n",
      "63356                                 -1.723400   \n",
      "63357                                 -0.938126   \n",
      "63358                                 -0.604331   \n",
      "\n",
      "       Nuclei_Texture_Correlation_GOLD_3_01_256  \\\n",
      "0                                     -2.873172   \n",
      "1                                     -2.873172   \n",
      "2                                      0.364749   \n",
      "3                                     -1.471390   \n",
      "4                                     -0.299818   \n",
      "...                                         ...   \n",
      "63354                                 -0.362258   \n",
      "63355                                  1.081944   \n",
      "63356                                 -1.670593   \n",
      "63357                                 -0.337367   \n",
      "63358                                 -0.373327   \n",
      "\n",
      "       Nuclei_Texture_Correlation_GOLD_3_02_256  \\\n",
      "0                                     -4.635442   \n",
      "1                                     -4.635442   \n",
      "2                                      0.057439   \n",
      "3                                     -0.572905   \n",
      "4                                     -0.971546   \n",
      "...                                         ...   \n",
      "63354                                 -0.952431   \n",
      "63355                                  0.885690   \n",
      "63356                                 -1.738772   \n",
      "63357                                 -0.740371   \n",
      "63358                                 -1.485818   \n",
      "\n",
      "       Nuclei_Texture_Correlation_GOLD_3_03_256  \\\n",
      "0                                     -2.869097   \n",
      "1                                     -2.869097   \n",
      "2                                      0.136200   \n",
      "3                                      0.140653   \n",
      "4                                     -2.075405   \n",
      "...                                         ...   \n",
      "63354                                 -1.934467   \n",
      "63355                                  0.074114   \n",
      "63356                                 -1.688474   \n",
      "63357                                 -0.793532   \n",
      "63358                                 -0.784130   \n",
      "\n",
      "       Nuclei_Texture_InfoMeas1_DAPI_3_00_256  \\\n",
      "0                                    0.535714   \n",
      "1                                    0.924185   \n",
      "2                                   -0.671712   \n",
      "3                                    0.708704   \n",
      "4                                    0.974129   \n",
      "...                                       ...   \n",
      "63354                                1.362543   \n",
      "63355                               -0.979198   \n",
      "63356                                0.486452   \n",
      "63357                               -0.346221   \n",
      "63358                               -0.147601   \n",
      "\n",
      "       Nuclei_Texture_InfoMeas1_DAPI_3_01_256  \\\n",
      "0                                   -0.182047   \n",
      "1                                   -0.823399   \n",
      "2                                   -0.987276   \n",
      "3                                    0.449238   \n",
      "4                                   -1.009551   \n",
      "...                                       ...   \n",
      "63354                                1.128533   \n",
      "63355                               -0.663974   \n",
      "63356                               -0.761964   \n",
      "63357                               -0.534778   \n",
      "63358                                0.065643   \n",
      "\n",
      "       Nuclei_Texture_InfoMeas1_DAPI_3_02_256  \\\n",
      "0                                    0.502261   \n",
      "1                                    0.023690   \n",
      "2                                   -0.664844   \n",
      "3                                    0.741110   \n",
      "4                                    0.464294   \n",
      "...                                       ...   \n",
      "63354                                1.162664   \n",
      "63355                               -1.025852   \n",
      "63356                               -1.088521   \n",
      "63357                               -1.008774   \n",
      "63358                                0.261785   \n",
      "\n",
      "       Nuclei_Texture_InfoMeas1_DAPI_3_03_256  \n",
      "0                                    0.791409  \n",
      "1                                   -0.008731  \n",
      "2                                    0.026038  \n",
      "3                                    1.011587  \n",
      "4                                    1.326281  \n",
      "...                                       ...  \n",
      "63354                                1.229538  \n",
      "63355                               -0.825447  \n",
      "63356                                0.597475  \n",
      "63357                               -0.252631  \n",
      "63358                                0.245148  \n",
      "\n",
      "[240906 rows x 267 columns]\n"
     ]
    }
   ],
   "source": [
    "scdfs.dropna(inplace=True)\n",
    "\n",
    "print(scdfs)"
   ]
  },
  {
   "cell_type": "markdown",
   "metadata": {
    "jukit_cell_id": "aV9CyQcjs6"
   },
   "source": [
    "## Seperate Gold, A647, and Dapi Features"
   ]
  },
  {
   "cell_type": "code",
   "execution_count": 8,
   "metadata": {
    "execution": {
     "iopub.execute_input": "2024-10-18T21:34:05.630910Z",
     "iopub.status.busy": "2024-10-18T21:34:05.630743Z",
     "iopub.status.idle": "2024-10-18T21:34:05.831320Z",
     "shell.execute_reply": "2024-10-18T21:34:05.830858Z"
    },
    "jukit_cell_id": "QqU4ieBlqx"
   },
   "outputs": [],
   "source": [
    "gold_scdfs = scdfs.loc[:, scdfs.columns.str.contains(\"GOLD|Metadata\", regex=True)]\n",
    "a647_scdfs = scdfs.loc[:, scdfs.columns.str.contains(\"A647|Metadata\", regex=True)]\n",
    "dapi_scdfs = scdfs.loc[:, scdfs.columns.str.contains(\"DAPI|Metadata\", regex=True)]\n",
    "\n",
    "gold_scdfs.columns = gold_scdfs.columns.str.replace('_GOLD', '', regex=False)\n",
    "a647_scdfs.columns = gold_scdfs.columns.str.replace('_A647', '', regex=False)\n",
    "dapi_scdfs.columns = dapi_scdfs.columns.str.replace('_DAPI', '', regex=False)"
   ]
  },
  {
   "cell_type": "markdown",
   "metadata": {
    "jukit_cell_id": "jA516CWZ8B"
   },
   "source": [
    "## Combine Seperated Stain Features"
   ]
  },
  {
   "cell_type": "code",
   "execution_count": 9,
   "metadata": {
    "execution": {
     "iopub.execute_input": "2024-10-18T21:34:05.833338Z",
     "iopub.status.busy": "2024-10-18T21:34:05.833211Z",
     "iopub.status.idle": "2024-10-18T21:34:06.204188Z",
     "shell.execute_reply": "2024-10-18T21:34:06.203724Z"
    },
    "jukit_cell_id": "3SM0BccfzV"
   },
   "outputs": [],
   "source": [
    "gold_scdfs = gold_scdfs.assign(Metadata_Stain=\"GOLD\")\n",
    "dapi_scdfs = dapi_scdfs.assign(Metadata_Stain=\"DAPI\")\n",
    "a647_scdfs = a647_scdfs.assign(Metadata_Stain=\"A647\")\n",
    "\n",
    "common_cols = gold_scdfs.columns.intersection(dapi_scdfs.columns).intersection(a647_scdfs.columns)\n",
    "scdfs = pd.concat([gold_scdfs[common_cols], dapi_scdfs[common_cols], a647_scdfs[common_cols]], axis=0)"
   ]
  },
  {
   "cell_type": "markdown",
   "metadata": {
    "jukit_cell_id": "dYBpppmu4P"
   },
   "source": [
    "## Specify Feature Metadata Columns"
   ]
  },
  {
   "cell_type": "code",
   "execution_count": 10,
   "metadata": {
    "execution": {
     "iopub.execute_input": "2024-10-18T21:34:06.206206Z",
     "iopub.status.busy": "2024-10-18T21:34:06.206080Z",
     "iopub.status.idle": "2024-10-18T21:34:06.208452Z",
     "shell.execute_reply": "2024-10-18T21:34:06.208161Z"
    },
    "jukit_cell_id": "Xvk0z6s5YD"
   },
   "outputs": [],
   "source": [
    "feat_cols = scdfs.columns[~scdfs.columns.str.contains(\"Metadata\")]"
   ]
  },
  {
   "cell_type": "markdown",
   "metadata": {
    "jukit_cell_id": "DpDVSA22OS"
   },
   "source": [
    "## Mean Aggregation to the Well Level"
   ]
  },
  {
   "cell_type": "code",
   "execution_count": 11,
   "metadata": {
    "execution": {
     "iopub.execute_input": "2024-10-18T21:34:06.209893Z",
     "iopub.status.busy": "2024-10-18T21:34:06.209783Z",
     "iopub.status.idle": "2024-10-18T21:34:06.496910Z",
     "shell.execute_reply": "2024-10-18T21:34:06.496459Z"
    },
    "jukit_cell_id": "3kAGbC43Zs"
   },
   "outputs": [],
   "source": [
    "# Metadata to retain\n",
    "agg_funcs = {\n",
    "    \"Metadata_Condition\": \"first\",\n",
    "}\n",
    "\n",
    "agg_funcs |= {feat_col: \"mean\" for feat_col in feat_cols}\n",
    "staindf = scdfs.groupby([\"Metadata_Plate\", \"Metadata_Well\", \"Metadata_Stain\"]).agg(agg_funcs).reset_index()"
   ]
  },
  {
   "cell_type": "code",
   "execution_count": 12,
   "metadata": {
    "execution": {
     "iopub.execute_input": "2024-10-18T21:34:06.498968Z",
     "iopub.status.busy": "2024-10-18T21:34:06.498813Z",
     "iopub.status.idle": "2024-10-18T21:34:06.516634Z",
     "shell.execute_reply": "2024-10-18T21:34:06.516271Z"
    },
    "jukit_cell_id": "Eo1zbJrCL0"
   },
   "outputs": [
    {
     "data": {
      "text/html": [
       "<div>\n",
       "<style scoped>\n",
       "    .dataframe tbody tr th:only-of-type {\n",
       "        vertical-align: middle;\n",
       "    }\n",
       "\n",
       "    .dataframe tbody tr th {\n",
       "        vertical-align: top;\n",
       "    }\n",
       "\n",
       "    .dataframe thead th {\n",
       "        text-align: right;\n",
       "    }\n",
       "</style>\n",
       "<table border=\"1\" class=\"dataframe\">\n",
       "  <thead>\n",
       "    <tr style=\"text-align: right;\">\n",
       "      <th></th>\n",
       "      <th>Metadata_Plate</th>\n",
       "      <th>Metadata_Well</th>\n",
       "      <th>Metadata_Stain</th>\n",
       "      <th>Metadata_Condition</th>\n",
       "      <th>Nuclei_Granularity_1</th>\n",
       "      <th>Nuclei_Intensity_MassDisplacement</th>\n",
       "      <th>Nuclei_Intensity_StdIntensityEdge</th>\n",
       "      <th>Nuclei_RadialDistribution_FracAtD_4of4</th>\n",
       "      <th>Nuclei_RadialDistribution_MeanFrac_1of4</th>\n",
       "      <th>Nuclei_RadialDistribution_MeanFrac_4of4</th>\n",
       "      <th>...</th>\n",
       "      <th>Nuclei_RadialDistribution_ZernikePhase_8_8</th>\n",
       "      <th>Nuclei_RadialDistribution_ZernikePhase_9_1</th>\n",
       "      <th>Nuclei_RadialDistribution_ZernikePhase_9_3</th>\n",
       "      <th>Nuclei_RadialDistribution_ZernikePhase_9_5</th>\n",
       "      <th>Nuclei_RadialDistribution_ZernikePhase_9_7</th>\n",
       "      <th>Nuclei_RadialDistribution_ZernikePhase_9_9</th>\n",
       "      <th>Nuclei_Texture_Correlation_3_00_256</th>\n",
       "      <th>Nuclei_Texture_Correlation_3_01_256</th>\n",
       "      <th>Nuclei_Texture_Correlation_3_02_256</th>\n",
       "      <th>Nuclei_Texture_Correlation_3_03_256</th>\n",
       "    </tr>\n",
       "  </thead>\n",
       "  <tbody>\n",
       "    <tr>\n",
       "      <th>0</th>\n",
       "      <td>slide1</td>\n",
       "      <td>A1</td>\n",
       "      <td>A647</td>\n",
       "      <td>NTC</td>\n",
       "      <td>0.171474</td>\n",
       "      <td>0.477067</td>\n",
       "      <td>1.159588</td>\n",
       "      <td>-0.746587</td>\n",
       "      <td>-0.269572</td>\n",
       "      <td>0.163854</td>\n",
       "      <td>...</td>\n",
       "      <td>-0.015042</td>\n",
       "      <td>0.018605</td>\n",
       "      <td>-0.058823</td>\n",
       "      <td>-0.030010</td>\n",
       "      <td>-0.012822</td>\n",
       "      <td>-0.053868</td>\n",
       "      <td>-0.329853</td>\n",
       "      <td>-0.279762</td>\n",
       "      <td>-0.340624</td>\n",
       "      <td>-0.326910</td>\n",
       "    </tr>\n",
       "    <tr>\n",
       "      <th>1</th>\n",
       "      <td>slide1</td>\n",
       "      <td>A1</td>\n",
       "      <td>DAPI</td>\n",
       "      <td>NTC</td>\n",
       "      <td>-0.217538</td>\n",
       "      <td>0.719026</td>\n",
       "      <td>0.331419</td>\n",
       "      <td>0.609352</td>\n",
       "      <td>0.146927</td>\n",
       "      <td>0.117445</td>\n",
       "      <td>...</td>\n",
       "      <td>-0.006253</td>\n",
       "      <td>0.021927</td>\n",
       "      <td>-0.075890</td>\n",
       "      <td>-0.050538</td>\n",
       "      <td>-0.030914</td>\n",
       "      <td>-0.023099</td>\n",
       "      <td>0.377650</td>\n",
       "      <td>0.403960</td>\n",
       "      <td>0.409060</td>\n",
       "      <td>0.397982</td>\n",
       "    </tr>\n",
       "    <tr>\n",
       "      <th>2</th>\n",
       "      <td>slide1</td>\n",
       "      <td>A1</td>\n",
       "      <td>GOLD</td>\n",
       "      <td>NTC</td>\n",
       "      <td>-0.382057</td>\n",
       "      <td>0.474737</td>\n",
       "      <td>1.114561</td>\n",
       "      <td>0.885131</td>\n",
       "      <td>-0.330499</td>\n",
       "      <td>0.590850</td>\n",
       "      <td>...</td>\n",
       "      <td>0.006725</td>\n",
       "      <td>0.008139</td>\n",
       "      <td>-0.054102</td>\n",
       "      <td>-0.042331</td>\n",
       "      <td>0.003489</td>\n",
       "      <td>-0.040262</td>\n",
       "      <td>0.237765</td>\n",
       "      <td>0.097259</td>\n",
       "      <td>0.193286</td>\n",
       "      <td>0.059259</td>\n",
       "    </tr>\n",
       "    <tr>\n",
       "      <th>3</th>\n",
       "      <td>slide1</td>\n",
       "      <td>A2</td>\n",
       "      <td>A647</td>\n",
       "      <td>ALY kd8</td>\n",
       "      <td>0.035772</td>\n",
       "      <td>0.765541</td>\n",
       "      <td>1.081828</td>\n",
       "      <td>-0.434666</td>\n",
       "      <td>-0.045196</td>\n",
       "      <td>0.463068</td>\n",
       "      <td>...</td>\n",
       "      <td>-0.000985</td>\n",
       "      <td>0.006110</td>\n",
       "      <td>0.018343</td>\n",
       "      <td>-0.002243</td>\n",
       "      <td>0.002698</td>\n",
       "      <td>-0.014026</td>\n",
       "      <td>0.205998</td>\n",
       "      <td>0.206157</td>\n",
       "      <td>0.231749</td>\n",
       "      <td>0.189171</td>\n",
       "    </tr>\n",
       "    <tr>\n",
       "      <th>4</th>\n",
       "      <td>slide1</td>\n",
       "      <td>A2</td>\n",
       "      <td>DAPI</td>\n",
       "      <td>ALY kd8</td>\n",
       "      <td>-0.449247</td>\n",
       "      <td>0.681245</td>\n",
       "      <td>0.724933</td>\n",
       "      <td>-0.116966</td>\n",
       "      <td>0.847064</td>\n",
       "      <td>-0.687609</td>\n",
       "      <td>...</td>\n",
       "      <td>0.005417</td>\n",
       "      <td>-0.016053</td>\n",
       "      <td>-0.000847</td>\n",
       "      <td>0.018493</td>\n",
       "      <td>0.008329</td>\n",
       "      <td>-0.033349</td>\n",
       "      <td>0.771391</td>\n",
       "      <td>0.715149</td>\n",
       "      <td>0.782281</td>\n",
       "      <td>0.700230</td>\n",
       "    </tr>\n",
       "  </tbody>\n",
       "</table>\n",
       "<p>5 rows × 64 columns</p>\n",
       "</div>"
      ],
      "text/plain": [
       "  Metadata_Plate Metadata_Well Metadata_Stain Metadata_Condition  \\\n",
       "0         slide1            A1           A647                NTC   \n",
       "1         slide1            A1           DAPI                NTC   \n",
       "2         slide1            A1           GOLD                NTC   \n",
       "3         slide1            A2           A647            ALY kd8   \n",
       "4         slide1            A2           DAPI            ALY kd8   \n",
       "\n",
       "   Nuclei_Granularity_1  Nuclei_Intensity_MassDisplacement  \\\n",
       "0              0.171474                           0.477067   \n",
       "1             -0.217538                           0.719026   \n",
       "2             -0.382057                           0.474737   \n",
       "3              0.035772                           0.765541   \n",
       "4             -0.449247                           0.681245   \n",
       "\n",
       "   Nuclei_Intensity_StdIntensityEdge  Nuclei_RadialDistribution_FracAtD_4of4  \\\n",
       "0                           1.159588                               -0.746587   \n",
       "1                           0.331419                                0.609352   \n",
       "2                           1.114561                                0.885131   \n",
       "3                           1.081828                               -0.434666   \n",
       "4                           0.724933                               -0.116966   \n",
       "\n",
       "   Nuclei_RadialDistribution_MeanFrac_1of4  \\\n",
       "0                                -0.269572   \n",
       "1                                 0.146927   \n",
       "2                                -0.330499   \n",
       "3                                -0.045196   \n",
       "4                                 0.847064   \n",
       "\n",
       "   Nuclei_RadialDistribution_MeanFrac_4of4  ...  \\\n",
       "0                                 0.163854  ...   \n",
       "1                                 0.117445  ...   \n",
       "2                                 0.590850  ...   \n",
       "3                                 0.463068  ...   \n",
       "4                                -0.687609  ...   \n",
       "\n",
       "   Nuclei_RadialDistribution_ZernikePhase_8_8  \\\n",
       "0                                   -0.015042   \n",
       "1                                   -0.006253   \n",
       "2                                    0.006725   \n",
       "3                                   -0.000985   \n",
       "4                                    0.005417   \n",
       "\n",
       "   Nuclei_RadialDistribution_ZernikePhase_9_1  \\\n",
       "0                                    0.018605   \n",
       "1                                    0.021927   \n",
       "2                                    0.008139   \n",
       "3                                    0.006110   \n",
       "4                                   -0.016053   \n",
       "\n",
       "   Nuclei_RadialDistribution_ZernikePhase_9_3  \\\n",
       "0                                   -0.058823   \n",
       "1                                   -0.075890   \n",
       "2                                   -0.054102   \n",
       "3                                    0.018343   \n",
       "4                                   -0.000847   \n",
       "\n",
       "   Nuclei_RadialDistribution_ZernikePhase_9_5  \\\n",
       "0                                   -0.030010   \n",
       "1                                   -0.050538   \n",
       "2                                   -0.042331   \n",
       "3                                   -0.002243   \n",
       "4                                    0.018493   \n",
       "\n",
       "   Nuclei_RadialDistribution_ZernikePhase_9_7  \\\n",
       "0                                   -0.012822   \n",
       "1                                   -0.030914   \n",
       "2                                    0.003489   \n",
       "3                                    0.002698   \n",
       "4                                    0.008329   \n",
       "\n",
       "   Nuclei_RadialDistribution_ZernikePhase_9_9  \\\n",
       "0                                   -0.053868   \n",
       "1                                   -0.023099   \n",
       "2                                   -0.040262   \n",
       "3                                   -0.014026   \n",
       "4                                   -0.033349   \n",
       "\n",
       "   Nuclei_Texture_Correlation_3_00_256  Nuclei_Texture_Correlation_3_01_256  \\\n",
       "0                            -0.329853                            -0.279762   \n",
       "1                             0.377650                             0.403960   \n",
       "2                             0.237765                             0.097259   \n",
       "3                             0.205998                             0.206157   \n",
       "4                             0.771391                             0.715149   \n",
       "\n",
       "   Nuclei_Texture_Correlation_3_02_256  Nuclei_Texture_Correlation_3_03_256  \n",
       "0                            -0.340624                            -0.326910  \n",
       "1                             0.409060                             0.397982  \n",
       "2                             0.193286                             0.059259  \n",
       "3                             0.231749                             0.189171  \n",
       "4                             0.782281                             0.700230  \n",
       "\n",
       "[5 rows x 64 columns]"
      ]
     },
     "execution_count": 12,
     "metadata": {},
     "output_type": "execute_result"
    }
   ],
   "source": [
    "staindf.head()"
   ]
  },
  {
   "cell_type": "markdown",
   "metadata": {
    "jukit_cell_id": "C6AaBtUOCj"
   },
   "source": [
    "# MIC Comparisons\n",
    "In this dataset, each instance (row) corresponds to a stain for a well.\n",
    "This means that multiple rows reference the same wells, but different stain features.\n",
    "When using the PairwiseCompareManager the _same_columns and _different_columns parameters must follow two conditions:\n",
    "1. _same_columns must include at least one list element if _different_columns has less than two list elements.\n",
    "2. _different columns must contain one or more list elements"
   ]
  },
  {
   "cell_type": "markdown",
   "metadata": {
    "jukit_cell_id": "6gx14BlSwz"
   },
   "source": [
    "## Compare between the same well from the same plate across different stains"
   ]
  },
  {
   "cell_type": "code",
   "execution_count": 13,
   "metadata": {
    "execution": {
     "iopub.execute_input": "2024-10-18T21:34:06.518225Z",
     "iopub.status.busy": "2024-10-18T21:34:06.518113Z",
     "iopub.status.idle": "2024-10-18T21:34:06.535946Z",
     "shell.execute_reply": "2024-10-18T21:34:06.535655Z"
    },
    "jukit_cell_id": "CRa8vLBRj8"
   },
   "outputs": [],
   "source": [
    "mic_comparator = MIC()\n",
    "\n",
    "comparer = PairwiseCompareManager(\n",
    "    _df=staindf.copy(),\n",
    "    _comparator=mic_comparator,\n",
    "    _same_columns=[\"Metadata_Plate\", \"Metadata_Well\"],\n",
    "    _different_columns=[\"Metadata_Stain\"],\n",
    "    _feat_cols=feat_cols\n",
    ")\n",
    "\n",
    "micdf = comparer()"
   ]
  },
  {
   "cell_type": "code",
   "execution_count": 14,
   "metadata": {
    "execution": {
     "iopub.execute_input": "2024-10-18T21:34:06.537490Z",
     "iopub.status.busy": "2024-10-18T21:34:06.537280Z",
     "iopub.status.idle": "2024-10-18T21:34:06.541502Z",
     "shell.execute_reply": "2024-10-18T21:34:06.541206Z"
    },
    "jukit_cell_id": "cGLOXfXNrN"
   },
   "outputs": [
    {
     "data": {
      "text/html": [
       "<div>\n",
       "<style scoped>\n",
       "    .dataframe tbody tr th:only-of-type {\n",
       "        vertical-align: middle;\n",
       "    }\n",
       "\n",
       "    .dataframe tbody tr th {\n",
       "        vertical-align: top;\n",
       "    }\n",
       "\n",
       "    .dataframe thead th {\n",
       "        text-align: right;\n",
       "    }\n",
       "</style>\n",
       "<table border=\"1\" class=\"dataframe\">\n",
       "  <thead>\n",
       "    <tr style=\"text-align: right;\">\n",
       "      <th></th>\n",
       "      <th>Metadata_Plate__antehoc_group0</th>\n",
       "      <th>Metadata_Plate__antehoc_group1</th>\n",
       "      <th>Metadata_Well__antehoc_group0</th>\n",
       "      <th>Metadata_Well__antehoc_group1</th>\n",
       "      <th>Metadata_Stain__posthoc_group0</th>\n",
       "    </tr>\n",
       "  </thead>\n",
       "  <tbody>\n",
       "    <tr>\n",
       "      <th>0</th>\n",
       "      <td>slide1</td>\n",
       "      <td>slide1</td>\n",
       "      <td>A1</td>\n",
       "      <td>A1</td>\n",
       "      <td>A647</td>\n",
       "    </tr>\n",
       "    <tr>\n",
       "      <th>1</th>\n",
       "      <td>slide1</td>\n",
       "      <td>slide1</td>\n",
       "      <td>A1</td>\n",
       "      <td>A1</td>\n",
       "      <td>A647</td>\n",
       "    </tr>\n",
       "    <tr>\n",
       "      <th>2</th>\n",
       "      <td>slide1</td>\n",
       "      <td>slide1</td>\n",
       "      <td>A1</td>\n",
       "      <td>A1</td>\n",
       "      <td>DAPI</td>\n",
       "    </tr>\n",
       "    <tr>\n",
       "      <th>3</th>\n",
       "      <td>slide1</td>\n",
       "      <td>slide1</td>\n",
       "      <td>A2</td>\n",
       "      <td>A2</td>\n",
       "      <td>A647</td>\n",
       "    </tr>\n",
       "    <tr>\n",
       "      <th>4</th>\n",
       "      <td>slide1</td>\n",
       "      <td>slide1</td>\n",
       "      <td>A2</td>\n",
       "      <td>A2</td>\n",
       "      <td>A647</td>\n",
       "    </tr>\n",
       "  </tbody>\n",
       "</table>\n",
       "</div>"
      ],
      "text/plain": [
       "  Metadata_Plate__antehoc_group0 Metadata_Plate__antehoc_group1  \\\n",
       "0                         slide1                         slide1   \n",
       "1                         slide1                         slide1   \n",
       "2                         slide1                         slide1   \n",
       "3                         slide1                         slide1   \n",
       "4                         slide1                         slide1   \n",
       "\n",
       "  Metadata_Well__antehoc_group0 Metadata_Well__antehoc_group1  \\\n",
       "0                            A1                            A1   \n",
       "1                            A1                            A1   \n",
       "2                            A1                            A1   \n",
       "3                            A2                            A2   \n",
       "4                            A2                            A2   \n",
       "\n",
       "  Metadata_Stain__posthoc_group0  \n",
       "0                           A647  \n",
       "1                           A647  \n",
       "2                           DAPI  \n",
       "3                           A647  \n",
       "4                           A647  "
      ]
     },
     "execution_count": 14,
     "metadata": {},
     "output_type": "execute_result"
    }
   ],
   "source": [
    "micdf.head()"
   ]
  },
  {
   "cell_type": "markdown",
   "metadata": {
    "jukit_cell_id": "ucjifXHnJI"
   },
   "source": [
    "## Compare between different stains and conditions"
   ]
  },
  {
   "cell_type": "code",
   "execution_count": 15,
   "metadata": {
    "execution": {
     "iopub.execute_input": "2024-10-18T21:34:06.542937Z",
     "iopub.status.busy": "2024-10-18T21:34:06.542827Z",
     "iopub.status.idle": "2024-10-18T21:34:06.732751Z",
     "shell.execute_reply": "2024-10-18T21:34:06.732381Z"
    },
    "jukit_cell_id": "JPLwsPbVsU"
   },
   "outputs": [],
   "source": [
    "mic_comparator = MIC()\n",
    "\n",
    "comparer = PairwiseCompareManager(\n",
    "    _df=staindf.copy(),\n",
    "    _comparator=mic_comparator,\n",
    "    _different_columns=[\"Metadata_Stain\", \"Metadata_Condition\"],\n",
    "    _feat_cols=feat_cols\n",
    ")\n",
    "\n",
    "micdf = comparer()"
   ]
  },
  {
   "cell_type": "code",
   "execution_count": 16,
   "metadata": {
    "execution": {
     "iopub.execute_input": "2024-10-18T21:34:06.734347Z",
     "iopub.status.busy": "2024-10-18T21:34:06.734228Z",
     "iopub.status.idle": "2024-10-18T21:34:06.738638Z",
     "shell.execute_reply": "2024-10-18T21:34:06.738343Z"
    },
    "jukit_cell_id": "rGAPBpItug"
   },
   "outputs": [
    {
     "data": {
      "text/html": [
       "<div>\n",
       "<style scoped>\n",
       "    .dataframe tbody tr th:only-of-type {\n",
       "        vertical-align: middle;\n",
       "    }\n",
       "\n",
       "    .dataframe tbody tr th {\n",
       "        vertical-align: top;\n",
       "    }\n",
       "\n",
       "    .dataframe thead th {\n",
       "        text-align: right;\n",
       "    }\n",
       "</style>\n",
       "<table border=\"1\" class=\"dataframe\">\n",
       "  <thead>\n",
       "    <tr style=\"text-align: right;\">\n",
       "      <th></th>\n",
       "      <th>mic_e</th>\n",
       "      <th>Metadata_Stain__antehoc_group0</th>\n",
       "      <th>Metadata_Stain__antehoc_group1</th>\n",
       "      <th>Metadata_Condition__posthoc_group0</th>\n",
       "      <th>Metadata_Condition__posthoc_group1</th>\n",
       "    </tr>\n",
       "  </thead>\n",
       "  <tbody>\n",
       "    <tr>\n",
       "      <th>0</th>\n",
       "      <td>0.767101</td>\n",
       "      <td>A647</td>\n",
       "      <td>DAPI</td>\n",
       "      <td>ALY kd5</td>\n",
       "      <td>ALY kd8</td>\n",
       "    </tr>\n",
       "    <tr>\n",
       "      <th>1</th>\n",
       "      <td>0.678485</td>\n",
       "      <td>A647</td>\n",
       "      <td>DAPI</td>\n",
       "      <td>ALY kd5</td>\n",
       "      <td>DDX39A kd1</td>\n",
       "    </tr>\n",
       "    <tr>\n",
       "      <th>2</th>\n",
       "      <td>0.830519</td>\n",
       "      <td>A647</td>\n",
       "      <td>DAPI</td>\n",
       "      <td>ALY kd5</td>\n",
       "      <td>DDX39A kd4</td>\n",
       "    </tr>\n",
       "    <tr>\n",
       "      <th>3</th>\n",
       "      <td>0.727970</td>\n",
       "      <td>A647</td>\n",
       "      <td>DAPI</td>\n",
       "      <td>ALY kd5</td>\n",
       "      <td>FIBP kd6</td>\n",
       "    </tr>\n",
       "    <tr>\n",
       "      <th>4</th>\n",
       "      <td>0.718055</td>\n",
       "      <td>A647</td>\n",
       "      <td>DAPI</td>\n",
       "      <td>ALY kd5</td>\n",
       "      <td>FIBP kd7</td>\n",
       "    </tr>\n",
       "  </tbody>\n",
       "</table>\n",
       "</div>"
      ],
      "text/plain": [
       "      mic_e Metadata_Stain__antehoc_group0 Metadata_Stain__antehoc_group1  \\\n",
       "0  0.767101                           A647                           DAPI   \n",
       "1  0.678485                           A647                           DAPI   \n",
       "2  0.830519                           A647                           DAPI   \n",
       "3  0.727970                           A647                           DAPI   \n",
       "4  0.718055                           A647                           DAPI   \n",
       "\n",
       "  Metadata_Condition__posthoc_group0 Metadata_Condition__posthoc_group1  \n",
       "0                            ALY kd5                            ALY kd8  \n",
       "1                            ALY kd5                         DDX39A kd1  \n",
       "2                            ALY kd5                         DDX39A kd4  \n",
       "3                            ALY kd5                           FIBP kd6  \n",
       "4                            ALY kd5                           FIBP kd7  "
      ]
     },
     "execution_count": 16,
     "metadata": {},
     "output_type": "execute_result"
    }
   ],
   "source": [
    "micdf.head()"
   ]
  },
  {
   "cell_type": "markdown",
   "metadata": {
    "jukit_cell_id": "K9KWpg6A7A"
   },
   "source": [
    "## Compare between different stains, conditions, and wells\n",
    "Excludes wells from the output dataframe"
   ]
  },
  {
   "cell_type": "code",
   "execution_count": 17,
   "metadata": {
    "execution": {
     "iopub.execute_input": "2024-10-18T21:34:06.740234Z",
     "iopub.status.busy": "2024-10-18T21:34:06.740016Z",
     "iopub.status.idle": "2024-10-18T21:34:07.422306Z",
     "shell.execute_reply": "2024-10-18T21:34:07.421944Z"
    },
    "jukit_cell_id": "OHRc2Dyid6"
   },
   "outputs": [],
   "source": [
    "mic_comparator = MIC()\n",
    "\n",
    "comparer = PairwiseCompareManager(\n",
    "    _df=staindf.copy(),\n",
    "    _comparator=mic_comparator,\n",
    "    _different_columns=[\"Metadata_Stain\", \"Metadata_Plate\", \"Metadata_Well\"],\n",
    "    _feat_cols=feat_cols,\n",
    "    _drop_cols=[\"Metadata_Well\"]\n",
    ")\n",
    "\n",
    "micdf = comparer()"
   ]
  },
  {
   "cell_type": "code",
   "execution_count": 18,
   "metadata": {
    "execution": {
     "iopub.execute_input": "2024-10-18T21:34:07.423849Z",
     "iopub.status.busy": "2024-10-18T21:34:07.423731Z",
     "iopub.status.idle": "2024-10-18T21:34:07.428525Z",
     "shell.execute_reply": "2024-10-18T21:34:07.428225Z"
    },
    "jukit_cell_id": "P0NrEe8xrX"
   },
   "outputs": [
    {
     "data": {
      "text/html": [
       "<div>\n",
       "<style scoped>\n",
       "    .dataframe tbody tr th:only-of-type {\n",
       "        vertical-align: middle;\n",
       "    }\n",
       "\n",
       "    .dataframe tbody tr th {\n",
       "        vertical-align: top;\n",
       "    }\n",
       "\n",
       "    .dataframe thead th {\n",
       "        text-align: right;\n",
       "    }\n",
       "</style>\n",
       "<table border=\"1\" class=\"dataframe\">\n",
       "  <thead>\n",
       "    <tr style=\"text-align: right;\">\n",
       "      <th></th>\n",
       "      <th>mic_e</th>\n",
       "      <th>Metadata_Stain__antehoc_group0</th>\n",
       "      <th>Metadata_Stain__antehoc_group1</th>\n",
       "      <th>Metadata_Plate__posthoc_group0</th>\n",
       "      <th>Metadata_Plate__posthoc_group1</th>\n",
       "      <th>Metadata_Well__posthoc_group0</th>\n",
       "      <th>Metadata_Well__posthoc_group1</th>\n",
       "    </tr>\n",
       "  </thead>\n",
       "  <tbody>\n",
       "    <tr>\n",
       "      <th>0</th>\n",
       "      <td>0.857133</td>\n",
       "      <td>A647</td>\n",
       "      <td>DAPI</td>\n",
       "      <td>slide1</td>\n",
       "      <td>slide2</td>\n",
       "      <td>A1</td>\n",
       "      <td>A2</td>\n",
       "    </tr>\n",
       "    <tr>\n",
       "      <th>1</th>\n",
       "      <td>0.818074</td>\n",
       "      <td>A647</td>\n",
       "      <td>DAPI</td>\n",
       "      <td>slide1</td>\n",
       "      <td>slide2</td>\n",
       "      <td>A1</td>\n",
       "      <td>A3</td>\n",
       "    </tr>\n",
       "    <tr>\n",
       "      <th>2</th>\n",
       "      <td>0.693374</td>\n",
       "      <td>A647</td>\n",
       "      <td>DAPI</td>\n",
       "      <td>slide1</td>\n",
       "      <td>slide2</td>\n",
       "      <td>A1</td>\n",
       "      <td>A4</td>\n",
       "    </tr>\n",
       "    <tr>\n",
       "      <th>3</th>\n",
       "      <td>0.558206</td>\n",
       "      <td>A647</td>\n",
       "      <td>DAPI</td>\n",
       "      <td>slide1</td>\n",
       "      <td>slide2</td>\n",
       "      <td>A1</td>\n",
       "      <td>B1</td>\n",
       "    </tr>\n",
       "    <tr>\n",
       "      <th>4</th>\n",
       "      <td>0.782552</td>\n",
       "      <td>A647</td>\n",
       "      <td>DAPI</td>\n",
       "      <td>slide1</td>\n",
       "      <td>slide2</td>\n",
       "      <td>A1</td>\n",
       "      <td>B2</td>\n",
       "    </tr>\n",
       "  </tbody>\n",
       "</table>\n",
       "</div>"
      ],
      "text/plain": [
       "      mic_e Metadata_Stain__antehoc_group0 Metadata_Stain__antehoc_group1  \\\n",
       "0  0.857133                           A647                           DAPI   \n",
       "1  0.818074                           A647                           DAPI   \n",
       "2  0.693374                           A647                           DAPI   \n",
       "3  0.558206                           A647                           DAPI   \n",
       "4  0.782552                           A647                           DAPI   \n",
       "\n",
       "  Metadata_Plate__posthoc_group0 Metadata_Plate__posthoc_group1  \\\n",
       "0                         slide1                         slide2   \n",
       "1                         slide1                         slide2   \n",
       "2                         slide1                         slide2   \n",
       "3                         slide1                         slide2   \n",
       "4                         slide1                         slide2   \n",
       "\n",
       "  Metadata_Well__posthoc_group0 Metadata_Well__posthoc_group1  \n",
       "0                            A1                            A2  \n",
       "1                            A1                            A3  \n",
       "2                            A1                            A4  \n",
       "3                            A1                            B1  \n",
       "4                            A1                            B2  "
      ]
     },
     "execution_count": 18,
     "metadata": {},
     "output_type": "execute_result"
    }
   ],
   "source": [
    "micdf.head()"
   ]
  }
 ],
 "metadata": {
  "anaconda-cloud": {},
  "kernelspec": {
   "display_name": "python",
   "language": "python",
   "name": "python3"
  },
  "language_info": {
   "codemirror_mode": {
    "name": "ipython",
    "version": 3
   },
   "file_extension": ".py",
   "mimetype": "text/x-python",
   "name": "python",
   "nbconvert_exporter": "python",
   "pygments_lexer": "ipython3",
   "version": "3.10.15"
  }
 },
 "nbformat": 4,
 "nbformat_minor": 4
}
